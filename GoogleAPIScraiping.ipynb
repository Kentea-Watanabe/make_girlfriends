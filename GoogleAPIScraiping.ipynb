{
  "nbformat": 4,
  "nbformat_minor": 0,
  "metadata": {
    "colab": {
      "provenance": [],
      "authorship_tag": "ABX9TyMkcOPUvs9hC+myhsec4mO9",
      "include_colab_link": true
    },
    "kernelspec": {
      "name": "python3",
      "display_name": "Python 3"
    },
    "language_info": {
      "name": "python"
    }
  },
  "cells": [
    {
      "cell_type": "markdown",
      "metadata": {
        "id": "view-in-github",
        "colab_type": "text"
      },
      "source": [
        "<a href=\"https://colab.research.google.com/github/Kentea-Watanabe/make_girlfriends/blob/main/GoogleAPIScraiping.ipynb\" target=\"_parent\"><img src=\"https://colab.research.google.com/assets/colab-badge.svg\" alt=\"Open In Colab\"/></a>"
      ]
    },
    {
      "cell_type": "code",
      "execution_count": null,
      "metadata": {
        "colab": {
          "base_uri": "https://localhost:8080/"
        },
        "id": "L7Mktaru2hah",
        "outputId": "5e0e3fad-95d4-46b3-8589-067b39cecef7"
      },
      "outputs": [
        {
          "output_type": "stream",
          "name": "stdout",
          "text": [
            "Mounted at /content/drive\n"
          ]
        }
      ],
      "source": [
        "from google.colab import drive\n",
        "drive.mount('/content/drive')"
      ]
    },
    {
      "cell_type": "code",
      "source": [
        "# 24時間で100回までしかAPIを呼び出せません。\n",
        "# 17時にリセットされる\n",
        "\n",
        "import os\n",
        "from datetime import datetime\n",
        "import json\n",
        "from googleapiclient.discovery import build\n",
        "\n",
        "\n",
        "start_index = 1\n",
        "\n",
        "# TODO \n",
        "GOOGLE_API_KEY = \"xxxxxxxxxxxxxxxxxxxxxxxxx\"\n",
        "CUSTOM_SEARCH_ENGINE_ID = \"xxxxxxxxxxxxxxxxxxxxx\"\n",
        "\n",
        "# TODO 検索ワードを変換する\n",
        "KEYWORD = \"かわいい 女性 海外\"\n",
        "KEYWORD_DIR = 'cute_girls'\n",
        "\n",
        "# -pで存在していれば作成しないというものに変更できる\n",
        "!mkdir -p {KEYWORD_DIR}\n",
        "\n",
        "if __name__ == '__main__':\n",
        "  # Google Customサーチ結果を取得\n",
        "  for _ in range(10):\n",
        "    s = build(\"customsearch\",\"v1\",\n",
        "    developerKey = GOOGLE_API_KEY)\n",
        "    r = s.cse().list(q = KEYWORD,\n",
        "    cx = CUSTOM_SEARCH_ENGINE_ID,\n",
        "    # lr = 'lang_ja',\n",
        "    searchType = \"image\", #検索タイプ\n",
        "    num = 10,\n",
        "    start = start_index).execute()\n",
        "\n",
        "    # レスポンスをjson形式で保存\n",
        "    s = json.dumps(r, ensure_ascii = False, indent = 4)\n",
        "    now = datetime.today().strftime(\"%Y%m%d%H%M%S\")\n",
        "    \n",
        "    with open('./' + KEYWORD_DIR + \"/\" + KEYWORD_DIR + \"_\" + str(_) + '.json', mode='w') as f:\n",
        "      f.write(s)\n",
        "    \n",
        "    start_index += 10"
      ],
      "metadata": {
        "id": "f2YZJtj12mNz"
      },
      "execution_count": null,
      "outputs": []
    },
    {
      "cell_type": "code",
      "source": [
        "%cd {KEYWORD_DIR}"
      ],
      "metadata": {
        "id": "7JW3U1QyW72h"
      },
      "execution_count": null,
      "outputs": []
    },
    {
      "cell_type": "code",
      "source": [
        "from http.client import NOT_EXTENDED\n",
        "from logging import getLogger, StreamHandler, Formatter, DEBUG\n",
        "import requests\n",
        "import shutil\n",
        "import json\n",
        "\n",
        "LOGGER = getLogger('custom_search_api')\n",
        "HANDLER = StreamHandler()\n",
        "HANDLER.setLevel(DEBUG)\n",
        "HANDLER.setFormatter(Formatter('%(message)s'))\n",
        "LOGGER.setLevel(DEBUG)\n",
        "LOGGER.addHandler(HANDLER)\n",
        "\n",
        "\n",
        "# TODO imgフォルダを作成する\n",
        "!mkdir -p img\n",
        "\n",
        "\n",
        "# 保存する画像名を更新していくための変数\n",
        "next_var = 0\n",
        "\n",
        "\n",
        "for i in range(10):\n",
        "  res_json = open('./' + KEYWORD_DIR + \"_\" + str(i) + '.json', 'r')\n",
        "  res_json = json.load(res_json)\n",
        "\n",
        "  for idx, items in enumerate(res_json[\"items\"]):\n",
        "      idx = idx + next_var\n",
        "      path = \"./img/\" + KEYWORD_DIR + \"_\" + str(idx) + \".jpg\"\n",
        "      download_link = items['link']\n",
        "      LOGGER.info(f'url:{download_link}')\n",
        "      r = requests.get(download_link, stream=True)\n",
        "      if r.status_code == 200:\n",
        "        try:\n",
        "          with open(path, 'wb') as f:\n",
        "            r.raw.decode_content = True\n",
        "            shutil.copyfileobj(r.raw, f)\n",
        "            print(\"保存成功!!!\")\n",
        "        except:\n",
        "          print(\"画像ではありません\")\n",
        "      next_var += 10"
      ],
      "metadata": {
        "id": "MCcvyCEr2nqb"
      },
      "execution_count": null,
      "outputs": []
    }
  ]
}